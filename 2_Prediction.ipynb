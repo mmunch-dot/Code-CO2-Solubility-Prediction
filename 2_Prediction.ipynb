{
 "cells": [
  {
   "cell_type": "markdown",
   "id": "backed-hammer",
   "metadata": {},
   "source": [
    "### 1. Initialization: to predict"
   ]
  },
  {
   "cell_type": "code",
   "execution_count": 1,
   "id": "divine-password",
   "metadata": {},
   "outputs": [],
   "source": [
    "import os\n",
    "import pandas as pd\n",
    "\n",
    "temper = 4\n",
    "\n",
    "pred = pd.read_csv(\"data_optimap_matrice.csv\", sep=\";\")\n",
    "temperature = [temper for k in range(pred.shape[0])]\n",
    "\n",
    "# temperature\n",
    "pred['temperature'] = temperature\n",
    "\n",
    "# We only keep time = 0.5\n",
    "pred = pred[pred['Temps'] == \"J0\" ]\n",
    "\n",
    "# \"fat\", \"protein\", \"salt\", \"water\"\n",
    "for par in [\"fat\", \"protein\", \"salt\", \"water\"]:\n",
    "    pred[par] *= 100\n",
    "to_pred = pred[[\"Produit\", \"temperature\", \"fat\", \"protein\", \"water\", \"salt\"]]\n",
    "\n",
    "to_pred = to_pred.drop_duplicates()\n",
    "\n",
    "to_pred = to_pred.set_index('Produit')"
   ]
  },
  {
   "cell_type": "code",
   "execution_count": 2,
   "id": "72a7505c",
   "metadata": {},
   "outputs": [
    {
     "data": {
      "text/html": [
       "<div>\n",
       "<style scoped>\n",
       "    .dataframe tbody tr th:only-of-type {\n",
       "        vertical-align: middle;\n",
       "    }\n",
       "\n",
       "    .dataframe tbody tr th {\n",
       "        vertical-align: top;\n",
       "    }\n",
       "\n",
       "    .dataframe thead th {\n",
       "        text-align: right;\n",
       "    }\n",
       "</style>\n",
       "<table border=\"1\" class=\"dataframe\">\n",
       "  <thead>\n",
       "    <tr style=\"text-align: right;\">\n",
       "      <th></th>\n",
       "      <th>temperature</th>\n",
       "      <th>fat</th>\n",
       "      <th>protein</th>\n",
       "      <th>water</th>\n",
       "      <th>salt</th>\n",
       "    </tr>\n",
       "    <tr>\n",
       "      <th>Produit</th>\n",
       "      <th></th>\n",
       "      <th></th>\n",
       "      <th></th>\n",
       "      <th></th>\n",
       "      <th></th>\n",
       "    </tr>\n",
       "  </thead>\n",
       "  <tbody>\n",
       "    <tr>\n",
       "      <th>Pâté</th>\n",
       "      <td>4</td>\n",
       "      <td>22.0</td>\n",
       "      <td>15.0</td>\n",
       "      <td>51.2</td>\n",
       "      <td>2.20</td>\n",
       "    </tr>\n",
       "    <tr>\n",
       "      <th>Jambon</th>\n",
       "      <td>4</td>\n",
       "      <td>4.8</td>\n",
       "      <td>22.0</td>\n",
       "      <td>70.7</td>\n",
       "      <td>1.90</td>\n",
       "    </tr>\n",
       "    <tr>\n",
       "      <th>Fromage</th>\n",
       "      <td>4</td>\n",
       "      <td>27.5</td>\n",
       "      <td>27.0</td>\n",
       "      <td>40.0</td>\n",
       "      <td>1.50</td>\n",
       "    </tr>\n",
       "    <tr>\n",
       "      <th>Saumon</th>\n",
       "      <td>4</td>\n",
       "      <td>15.0</td>\n",
       "      <td>20.0</td>\n",
       "      <td>66.5</td>\n",
       "      <td>0.09</td>\n",
       "    </tr>\n",
       "  </tbody>\n",
       "</table>\n",
       "</div>"
      ],
      "text/plain": [
       "         temperature   fat  protein  water  salt\n",
       "Produit                                         \n",
       "Pâté               4  22.0     15.0   51.2  2.20\n",
       "Jambon             4   4.8     22.0   70.7  1.90\n",
       "Fromage            4  27.5     27.0   40.0  1.50\n",
       "Saumon             4  15.0     20.0   66.5  0.09"
      ]
     },
     "execution_count": 2,
     "metadata": {},
     "output_type": "execute_result"
    }
   ],
   "source": [
    "to_pred"
   ]
  },
  {
   "cell_type": "markdown",
   "id": "political-wellington",
   "metadata": {},
   "source": [
    "### 2. Initialization: model\n",
    "#### 2.1 Preparation"
   ]
  },
  {
   "cell_type": "code",
   "execution_count": 3,
   "id": "60030cfe",
   "metadata": {},
   "outputs": [],
   "source": [
    "df = pd.read_csv('all_data.csv', sep=\";\")\n",
    "\n",
    "# Drop unite\n",
    "df = df.drop([0])\n",
    "\n",
    "# Convert mol -> mmol\n",
    "for i in df.index:\n",
    "    df.loc[i, \"solubility\"] = \"{:.1f}\".format(float(df.loc[i, \"solubility\"])*1e3)\n",
    "    \n",
    "# We consider missing salt values as 0\n",
    "df = df.fillna(0)\n",
    "\n",
    "# We transform all values as numbers\n",
    "for att in [\"temperature\", \"solubility\", \"fat\", \"protein\", \"salt\", \"water\"]:\n",
    "    df[att] = df[att].apply(pd.to_numeric)\n",
    "    \n",
    "\n",
    "# When a product has been tested multiple times under the same conditions\n",
    "# We take the mean value\n",
    "d_values = dict()\n",
    "for i in df.index:\n",
    "    key = tuple(df.loc[i].loc[[\"Type\",\n",
    "                             \"temperature\",\n",
    "                             \"fat\", \"protein\", \"salt\",\n",
    "                             \"water\"]].to_list() )\n",
    "    \n",
    "    if key not in d_values:\n",
    "        d_values[key] = {\"values\":list(), \"index\":list()}\n",
    "    \n",
    "    d_values[key][\"values\"].append( df.loc[i, \"solubility\"] )\n",
    "    d_values[key][\"index\"].append( i )\n",
    "\n",
    "for key in d_values:\n",
    "    if len(d_values[key][\"index\"]) > 1:\n",
    "        \n",
    "        mean = sum(d_values[key][\"values\"])/len(d_values[key][\"values\"])\n",
    "        df = df.drop(d_values[key][\"index\"][1:])\n",
    "        df.loc[ d_values[key][\"index\"][0], \"solubility\" ] = mean"
   ]
  },
  {
   "cell_type": "code",
   "execution_count": 4,
   "id": "growing-study",
   "metadata": {},
   "outputs": [
    {
     "data": {
      "text/plain": [
       "(157, 18)"
      ]
     },
     "execution_count": 4,
     "metadata": {},
     "output_type": "execute_result"
    }
   ],
   "source": [
    "from sklearn.utils import shuffle\n",
    "\n",
    "df = shuffle(df)\n",
    "\n",
    "df.shape"
   ]
  },
  {
   "cell_type": "markdown",
   "id": "distinguished-specialist",
   "metadata": {},
   "source": [
    "#### 2.2. Learning"
   ]
  },
  {
   "cell_type": "code",
   "execution_count": 5,
   "id": "innovative-control",
   "metadata": {},
   "outputs": [],
   "source": [
    "from sklearn.ensemble import RandomForestRegressor\n",
    "import shap\n",
    "\n",
    "X = df[ [\"temperature\", \"fat\", \"protein\", \"water\", \"salt\"] ]\n",
    "y = df[\"solubility\"]\n",
    "\n",
    "clf = RandomForestRegressor(n_estimators=100)\n",
    "clf.fit(X,y)\n",
    "\n",
    "ex = shap.TreeExplainer(clf)"
   ]
  },
  {
   "cell_type": "markdown",
   "id": "regulation-genome",
   "metadata": {},
   "source": [
    "### 3. Prediction"
   ]
  },
  {
   "cell_type": "code",
   "execution_count": 6,
   "id": "3d6f914a",
   "metadata": {},
   "outputs": [
    {
     "data": {
      "text/html": [
       "<div>\n",
       "<style scoped>\n",
       "    .dataframe tbody tr th:only-of-type {\n",
       "        vertical-align: middle;\n",
       "    }\n",
       "\n",
       "    .dataframe tbody tr th {\n",
       "        vertical-align: top;\n",
       "    }\n",
       "\n",
       "    .dataframe thead th {\n",
       "        text-align: right;\n",
       "    }\n",
       "</style>\n",
       "<table border=\"1\" class=\"dataframe\">\n",
       "  <thead>\n",
       "    <tr style=\"text-align: right;\">\n",
       "      <th></th>\n",
       "      <th>temperature</th>\n",
       "      <th>fat</th>\n",
       "      <th>protein</th>\n",
       "      <th>water</th>\n",
       "      <th>salt</th>\n",
       "      <th>Predicted</th>\n",
       "    </tr>\n",
       "    <tr>\n",
       "      <th>Produit</th>\n",
       "      <th></th>\n",
       "      <th></th>\n",
       "      <th></th>\n",
       "      <th></th>\n",
       "      <th></th>\n",
       "      <th></th>\n",
       "    </tr>\n",
       "  </thead>\n",
       "  <tbody>\n",
       "    <tr>\n",
       "      <th>Pâté</th>\n",
       "      <td>4</td>\n",
       "      <td>22.0</td>\n",
       "      <td>15.0</td>\n",
       "      <td>51.2</td>\n",
       "      <td>2.20</td>\n",
       "      <td>41.560111</td>\n",
       "    </tr>\n",
       "    <tr>\n",
       "      <th>Jambon</th>\n",
       "      <td>4</td>\n",
       "      <td>4.8</td>\n",
       "      <td>22.0</td>\n",
       "      <td>70.7</td>\n",
       "      <td>1.90</td>\n",
       "      <td>51.180000</td>\n",
       "    </tr>\n",
       "    <tr>\n",
       "      <th>Fromage</th>\n",
       "      <td>4</td>\n",
       "      <td>27.5</td>\n",
       "      <td>27.0</td>\n",
       "      <td>40.0</td>\n",
       "      <td>1.50</td>\n",
       "      <td>34.325317</td>\n",
       "    </tr>\n",
       "    <tr>\n",
       "      <th>Saumon</th>\n",
       "      <td>4</td>\n",
       "      <td>15.0</td>\n",
       "      <td>20.0</td>\n",
       "      <td>66.5</td>\n",
       "      <td>0.09</td>\n",
       "      <td>51.902000</td>\n",
       "    </tr>\n",
       "  </tbody>\n",
       "</table>\n",
       "</div>"
      ],
      "text/plain": [
       "         temperature   fat  protein  water  salt  Predicted\n",
       "Produit                                                    \n",
       "Pâté               4  22.0     15.0   51.2  2.20  41.560111\n",
       "Jambon             4   4.8     22.0   70.7  1.90  51.180000\n",
       "Fromage            4  27.5     27.0   40.0  1.50  34.325317\n",
       "Saumon             4  15.0     20.0   66.5  0.09  51.902000"
      ]
     },
     "execution_count": 6,
     "metadata": {},
     "output_type": "execute_result"
    }
   ],
   "source": [
    "to_pred[\"Predicted\"] = clf.predict(to_pred)\n",
    "to_pred"
   ]
  },
  {
   "cell_type": "markdown",
   "id": "47426510",
   "metadata": {},
   "source": [
    "### 4. Confidence"
   ]
  },
  {
   "cell_type": "code",
   "execution_count": 8,
   "id": "df3799bb",
   "metadata": {},
   "outputs": [
    {
     "name": "stdout",
     "output_type": "stream",
     "text": [
      "Pâté 26.3 < 41.560111111111134 < 56.3\n",
      "Jambon 34.1 < 51.17999999999999 < 73.96666666666667\n",
      "Fromage 26.21111111111111 < 34.32531666666669 < 40.86\n",
      "Saumon 38.1 < 51.90200000000001 < 89.09999999999998\n"
     ]
    }
   ],
   "source": [
    "import numpy as np\n",
    "from sklearn.model_selection import LeaveOneOut\n",
    "\n",
    "percentile = 90\n",
    "\n",
    "yerr_inf = []\n",
    "yerr_sup = []\n",
    "    \n",
    "for produit in to_pred.index:\n",
    "    X = np.array( to_pred.loc[ produit, [\"temperature\", \"fat\", \"protein\", \"water\", \"salt\"]] ).reshape(1, -1)\n",
    "    \n",
    "    # All trees make a prediction\n",
    "    pred = list()\n",
    "    for tree in clf.estimators_:\n",
    "        v = tree.predict( X )[0]\n",
    "        pred.append(v)\n",
    "    pred = np.array(pred)\n",
    "\n",
    "    yerr_inf = np.percentile(pred,(100 - percentile) / 2)\n",
    "    yerr_sup = np.percentile(pred,100 - (100 - percentile) / 2)\n",
    "\n",
    "    print(produit, yerr_inf, \"<\", to_pred.loc[produit, \"Predicted\"], \"<\", yerr_sup)"
   ]
  },
  {
   "cell_type": "markdown",
   "id": "ff9bf2ee",
   "metadata": {},
   "source": [
    "### 5. Explanation"
   ]
  },
  {
   "cell_type": "code",
   "execution_count": 9,
   "id": "a351dd2b",
   "metadata": {},
   "outputs": [],
   "source": [
    "import shap\n",
    "\n",
    "ex = shap.TreeExplainer(clf)"
   ]
  },
  {
   "cell_type": "code",
   "execution_count": 10,
   "id": "12ffe251",
   "metadata": {
    "scrolled": false
   },
   "outputs": [
    {
     "name": "stdout",
     "output_type": "stream",
     "text": [
      "Pâté\n"
     ]
    },
    {
     "data": {
      "image/png": "[encoded data removed]",
      "text/plain": [
       "<Figure size 1440x216 with 1 Axes>"
      ]
     },
     "metadata": {
      "needs_background": "light"
     },
     "output_type": "display_data"
    },
    {
     "name": "stdout",
     "output_type": "stream",
     "text": [
      "Jambon\n"
     ]
    },
    {
     "data": {
      "image/png": "[encoded data removed]",
      "text/plain": [
       "<Figure size 1440x216 with 1 Axes>"
      ]
     },
     "metadata": {
      "needs_background": "light"
     },
     "output_type": "display_data"
    },
    {
     "name": "stdout",
     "output_type": "stream",
     "text": [
      "Fromage\n"
     ]
    },
    {
     "data": {
      "image/png": "[encoded data removed]",
      "text/plain": [
       "<Figure size 1440x216 with 1 Axes>"
      ]
     },
     "metadata": {
      "needs_background": "light"
     },
     "output_type": "display_data"
    },
    {
     "name": "stdout",
     "output_type": "stream",
     "text": [
      "Saumon\n"
     ]
    },
    {
     "data": {
      "image/png": "[encoded data removed]",
      "text/plain": [
       "<Figure size 1440x216 with 1 Axes>"
      ]
     },
     "metadata": {
      "needs_background": "light"
     },
     "output_type": "display_data"
    }
   ],
   "source": [
    "for formulation in to_pred.index:\n",
    "    print(formulation)\n",
    "    \n",
    "    row = to_pred.loc[ formulation, [\"temperature\", \"fat\", \"protein\", \"water\", \"salt\"]]\n",
    "    \n",
    "    # Shap\n",
    "    shap_values = ex.shap_values(row)\n",
    "    shap.force_plot(ex.expected_value,\n",
    "                    shap_values,\n",
    "                    row,\n",
    "                    matplotlib = True,\n",
    "                    feature_names = [\"temperature\", \"fat\", \"protein\", \"water\", \"salt\"])"
   ]
  }
 ],
 "metadata": {
  "kernelspec": {
   "display_name": "Python 3",
   "language": "python",
   "name": "python3"
  },
  "language_info": {
   "codemirror_mode": {
    "name": "ipython",
    "version": 3
   },
   "file_extension": ".py",
   "mimetype": "text/x-python",
   "name": "python",
   "nbconvert_exporter": "python",
   "pygments_lexer": "ipython3",
   "version": "3.8.5"
  }
 },
 "nbformat": 4,
 "nbformat_minor": 5
}
